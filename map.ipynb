{
 "cells": [
  {
   "cell_type": "code",
   "execution_count": 6,
   "metadata": {
    "collapsed": true
   },
   "outputs": [],
   "source": [
    "%matplotlib inline\n",
    "import matplotlib.pyplot as plt\n",
    "from mpl_toolkits.basemap import Basemap\n",
    "import numpy as np\n"
   ]
  },
  {
   "cell_type": "code",
   "execution_count": 2,
   "metadata": {
    "collapsed": true
   },
   "outputs": [],
   "source": [
    "# custom imports \n",
    "from column import *\n",
    "from read_file import read_file\n",
    "from readinLatLong import get_foldernames"
   ]
  },
  {
   "cell_type": "code",
   "execution_count": 86,
   "metadata": {},
   "outputs": [
    {
     "name": "stdout",
     "output_type": "stream",
     "text": [
      "dict_keys([('-105', '67.5'), ('-175', '60'), ('-15', '0'), ('-15', '45'), ('-30', '67.5'), ('150', '22.5'), ('105', '0'), ('150', '45'), ('150', '0'), ('75', '0'), ('165', '45'), ('-45', '67.5'), ('-90', '45'), ('90', '67.5'), ('-135', '45'), ('75', '45'), ('45', '22.5'), ('135', '45'), ('105', '22.5'), ('-120', '22.5'), ('105', '67.5'), ('135', '67.5'), ('-150', '0'), ('135', '0'), ('60', '22.5'), ('120', '45'), ('90', '0'), ('65', '45'), ('-15', '67.5'), ('-90', '30'), ('-30', '0'), ('-180', '45'), ('120', '67.5'), ('-60', '22.5'), ('-90', '0'), ('-165', '22.5'), ('-165', '0'), ('150', '67.5'), ('-165', '45'), ('165', '0'), ('165', '67.5'), ('105', '45'), ('0', '67.5'), ('30', '0'), ('45', '67.5'), ('-180', '67.5'), ('-180', '0'), ('-45', '45'), ('0', '0'), ('-90', '22.5'), ('-75', '22.5'), ('-90', '67.5'), ('120', '0'), ('15', '22.5')])\n",
      "54\n",
      "<class 'numpy.float64'>\n",
      "[-180. -175. -165. -150. -135. -120. -105.  -90.  -75.  -60.  -45.  -30.\n",
      "  -15.    0.   15.   30.   45.   60.   65.   75.   90.  105.  120.  135.\n",
      "  150.  165.]\n",
      "156\n",
      "dict_keys([b'ALO+', b'AL2O2', b'NO2', b'O-', b'NO2-', b'SIO2', b'HNO', b'C2', b'SI2C', b'CAL', b'CKN', b'N2H2', b'SI3', b'AL202+', b'C2N', b'ALOH+', b'SIH4', b'ALO2H', b'N2O4', b'HCN', b'C4N2', b'ALOH-', b'NO+', b'CNN', b'SI2N', b'n<H>', b'CN+', b'C2H', b'ALOH', b'C5', b'HNO3', b'ALO', b'MGOH+', b'C2H4O', b'MGH', b'COS', b'NH', b'SIN', b'CO', b'H3O+', b'NACN', b'SIO', b'SIC2', b'HALO', b'CH2', b'MG(OH)2', b'O2-', b'H2CO', b'ALN', b'H+', b'C2O', b'HNO2(cis)', b'C2-', b'OH', b'T', b'C3', b'N2H4', b'N2O3', b'AL2O+', b'ALO2-', b'CN-', b'MGOH', b'HNO2(tr)', b'CHO+', b'C2H4', b'OH-', b'NH3', b'N2O5', b'NCN', b'CHNO', b'HCO', b'AL+', b'p', b'ALS', b'CH', b'NO', b'CH3', b'SI2', b'O3', b'CH4', b'C2H2', b'C-', b'MG+', b'z', b'C4', b'H-', b'MGO', b'C2N2', b'SIC', b'N2O', b'ALO2', b'AL2O', b'CN', b'OH+', b'MGN', b'NO3', b'NH2', b'H2O', b'SIH', b'CO2-', b'C3O2', b'CO2', b'ALH', b'HO2'])\n"
     ]
    }
   ],
   "source": [
    "fnames = get_foldernames()\n",
    "print (fnames.keys())\n",
    "lons = np.sort(np.unique([float(key[0]) for key in fnames.keys()]))\n",
    "lats = np.sort(np.unique([float(key[1]) for key in fnames.keys()]))\n",
    "print (len(fnames.keys()))\n",
    "print (type(lats[0]))\n",
    "print (lons)\n",
    "print (len(lats)*len(lons))\n",
    "print (data.keys())"
   ]
  },
  {
   "cell_type": "code",
   "execution_count": 90,
   "metadata": {},
   "outputs": [
    {
     "name": "stdout",
     "output_type": "stream",
     "text": [
      "(6, 26)\n",
      "5 6\n",
      "4 1\n",
      "0 12\n",
      "3 12\n",
      "5 11\n",
      "1 24\n",
      "0 21\n",
      "3 24\n",
      "0 24\n",
      "0 19\n",
      "3 25\n",
      "5 10\n",
      "3 7\n",
      "5 20\n",
      "3 4\n",
      "3 19\n",
      "1 16\n",
      "3 23\n",
      "1 21\n",
      "1 5\n",
      "5 21\n",
      "5 23\n",
      "0 3\n",
      "0 23\n",
      "1 17\n",
      "3 22\n",
      "0 20\n",
      "3 18\n",
      "5 12\n",
      "2 7\n",
      "0 11\n",
      "3 0\n",
      "5 22\n",
      "1 9\n",
      "0 7\n",
      "1 2\n",
      "0 2\n",
      "5 24\n",
      "3 2\n",
      "0 25\n",
      "5 25\n",
      "3 21\n",
      "5 13\n",
      "0 15\n",
      "5 16\n",
      "5 0\n",
      "0 0\n",
      "3 10\n",
      "0 13\n",
      "1 7\n",
      "1 8\n",
      "5 7\n",
      "0 22\n",
      "1 14\n"
     ]
    }
   ],
   "source": [
    "datafile = 'out3_chem1.dat'\n",
    "keyword = b'T'\n",
    "\n",
    "# Z is our mapping variable - choose what variable is to be interpolated and mapped\n",
    "#Z_a = np.zeros((lats,lons))\n",
    "#Z_a = T\n",
    "Z = np.zeros((len(lats),len(lons)))\n",
    "\n",
    "print (Z.shape)\n",
    "\n",
    "for key in fnames.keys():\n",
    "    lon, lat = key\n",
    "    fname = fnames[key] \n",
    "    data = read_file(fname + datafile)\n",
    "    \n",
    "    #print (data[b'z'])\n",
    "    #print (data.keys())\n",
    "    output = integrate_column(data, keyword)\n",
    "    #print (np.where(lons == lon)[0])\n",
    "    latind = np.where(lats == float(lat))[0][0]\n",
    "    lonind = np.where(lons == float(lon))[0][0]\n",
    "    print (latind,lonind)\n",
    "    Z[latind][lonind] = output\n",
    "\n",
    "Z = np.log10(np.maximum(Z,1e-99))\n",
    "#Z[Z==0.0] = np.nan\n",
    "\n"
   ]
  },
  {
   "cell_type": "code",
   "execution_count": 88,
   "metadata": {},
   "outputs": [
    {
     "name": "stdout",
     "output_type": "stream",
     "text": [
      "[[ 11.92309888 -99.          11.91219895  10.9990688  -99.         -99.\n",
      "  -99.          12.02952521 -99.         -99.         -99.          12.357358\n",
      "   12.36757039  12.37433719 -99.          12.37515129 -99.         -99.\n",
      "  -99.          12.31921521  12.16251941  12.00061572  11.99201629\n",
      "   11.34743541  12.00710768  11.95016919]\n",
      " [-99.         -99.          11.84742782 -99.         -99.          11.85169239\n",
      "  -99.          12.03279706  12.23175205  12.28196362 -99.         -99.\n",
      "  -99.         -99.          12.36171094 -99.          12.35267568\n",
      "   12.33797338 -99.         -99.         -99.          11.9944769  -99.\n",
      "  -99.          11.8517225  -99.        ]\n",
      " [-99.         -99.         -99.         -99.         -99.         -99.\n",
      "  -99.          12.02952521 -99.         -99.         -99.         -99.\n",
      "  -99.         -99.         -99.         -99.         -99.         -99.\n",
      "  -99.         -99.         -99.         -99.         -99.         -99.\n",
      "  -99.         -99.        ]\n",
      " [ 11.82055741 -99.          11.92309888 -99.          12.00710768 -99.\n",
      "  -99.          12.04720763 -99.         -99.          12.29458229 -99.\n",
      "   11.84219704 -99.         -99.         -99.         -99.         -99.\n",
      "   11.84219704  12.27298184 -99.          11.93196516  11.92309888\n",
      "   11.86263962  11.84219704  11.82782375]\n",
      " [-99.          12.00652501 -99.         -99.         -99.         -99.\n",
      "  -99.         -99.         -99.         -99.         -99.         -99.\n",
      "  -99.         -99.         -99.         -99.         -99.         -99.\n",
      "  -99.         -99.         -99.         -99.         -99.         -99.\n",
      "  -99.         -99.        ]\n",
      " [ 11.84041031 -99.         -99.         -99.         -99.         -99.\n",
      "   11.89555013  12.06062848 -99.         -99.          12.26505757\n",
      "   12.27962504  12.28915268  12.29296599 -99.         -99.          12.2774495\n",
      "  -99.         -99.         -99.          12.08281176  11.92478448\n",
      "   11.89070973  11.85800454  11.87039478  11.84660041]]\n"
     ]
    }
   ],
   "source": [
    "print (Z)\n",
    "\n"
   ]
  },
  {
   "cell_type": "code",
   "execution_count": 92,
   "metadata": {},
   "outputs": [
    {
     "ename": "ValueError",
     "evalue": "operands could not be broadcast together with shapes (6,26) (26,6) ",
     "output_type": "error",
     "traceback": [
      "\u001b[0;31m---------------------------------------------------------------------------\u001b[0m",
      "\u001b[0;31mValueError\u001b[0m                                Traceback (most recent call last)",
      "\u001b[0;32m<ipython-input-92-22db8f4fb502>\u001b[0m in \u001b[0;36m<module>\u001b[0;34m()\u001b[0m\n\u001b[1;32m     20\u001b[0m \u001b[0;34m\u001b[0m\u001b[0m\n\u001b[1;32m     21\u001b[0m \u001b[0;31m# Plot data as filled contour\u001b[0m\u001b[0;34m\u001b[0m\u001b[0;34m\u001b[0m\u001b[0m\n\u001b[0;32m---> 22\u001b[0;31m \u001b[0mCS\u001b[0m \u001b[0;34m=\u001b[0m \u001b[0mm\u001b[0m\u001b[0;34m.\u001b[0m\u001b[0mcontourf\u001b[0m\u001b[0;34m(\u001b[0m\u001b[0mX\u001b[0m\u001b[0;34m,\u001b[0m\u001b[0mY\u001b[0m\u001b[0;34m,\u001b[0m\u001b[0mZ\u001b[0m\u001b[0;34m,\u001b[0m\u001b[0mlevels\u001b[0m\u001b[0;34m=\u001b[0m\u001b[0mlevels\u001b[0m\u001b[0;34m,\u001b[0m\u001b[0mextend\u001b[0m\u001b[0;34m=\u001b[0m\u001b[0;34m'both'\u001b[0m\u001b[0;34m,\u001b[0m\u001b[0mcmap\u001b[0m\u001b[0;34m=\u001b[0m\u001b[0mcmap\u001b[0m\u001b[0;34m,\u001b[0m\u001b[0mlatlon\u001b[0m\u001b[0;34m=\u001b[0m\u001b[0;32mTrue\u001b[0m\u001b[0;34m)\u001b[0m\u001b[0;34m\u001b[0m\u001b[0m\n\u001b[0m\u001b[1;32m     23\u001b[0m \u001b[0;34m\u001b[0m\u001b[0m\n\u001b[1;32m     24\u001b[0m \u001b[0;31m# Colour bar and formatting\u001b[0m\u001b[0;34m\u001b[0m\u001b[0;34m\u001b[0m\u001b[0m\n",
      "\u001b[0;32m~/anaconda/envs/CloudAcademy/lib/python3.5/site-packages/mpl_toolkits/basemap/__init__.py\u001b[0m in \u001b[0;36mwith_transform\u001b[0;34m(self, x, y, data, *args, **kwargs)\u001b[0m\n\u001b[1;32m    535\u001b[0m             \u001b[0;31m# convert lat/lon coords to map projection coords.\u001b[0m\u001b[0;34m\u001b[0m\u001b[0;34m\u001b[0m\u001b[0m\n\u001b[1;32m    536\u001b[0m             \u001b[0mx\u001b[0m\u001b[0;34m,\u001b[0m \u001b[0my\u001b[0m \u001b[0;34m=\u001b[0m \u001b[0mself\u001b[0m\u001b[0;34m(\u001b[0m\u001b[0mx\u001b[0m\u001b[0;34m,\u001b[0m\u001b[0my\u001b[0m\u001b[0;34m)\u001b[0m\u001b[0;34m\u001b[0m\u001b[0m\n\u001b[0;32m--> 537\u001b[0;31m         \u001b[0;32mreturn\u001b[0m \u001b[0mplotfunc\u001b[0m\u001b[0;34m(\u001b[0m\u001b[0mself\u001b[0m\u001b[0;34m,\u001b[0m\u001b[0mx\u001b[0m\u001b[0;34m,\u001b[0m\u001b[0my\u001b[0m\u001b[0;34m,\u001b[0m\u001b[0mdata\u001b[0m\u001b[0;34m,\u001b[0m\u001b[0;34m*\u001b[0m\u001b[0margs\u001b[0m\u001b[0;34m,\u001b[0m\u001b[0;34m**\u001b[0m\u001b[0mkwargs\u001b[0m\u001b[0;34m)\u001b[0m\u001b[0;34m\u001b[0m\u001b[0m\n\u001b[0m\u001b[1;32m    538\u001b[0m     \u001b[0;32mreturn\u001b[0m \u001b[0mwith_transform\u001b[0m\u001b[0;34m\u001b[0m\u001b[0m\n\u001b[1;32m    539\u001b[0m \u001b[0;34m\u001b[0m\u001b[0m\n",
      "\u001b[0;32m~/anaconda/envs/CloudAcademy/lib/python3.5/site-packages/mpl_toolkits/basemap/__init__.py\u001b[0m in \u001b[0;36mcontourf\u001b[0;34m(self, x, y, data, *args, **kwargs)\u001b[0m\n\u001b[1;32m   3659\u001b[0m                 \u001b[0mdata\u001b[0m \u001b[0;34m=\u001b[0m \u001b[0mma\u001b[0m\u001b[0;34m.\u001b[0m\u001b[0masarray\u001b[0m\u001b[0;34m(\u001b[0m\u001b[0mdata\u001b[0m\u001b[0;34m)\u001b[0m\u001b[0;34m\u001b[0m\u001b[0m\n\u001b[1;32m   3660\u001b[0m                 \u001b[0;31m# combine with data mask.\u001b[0m\u001b[0;34m\u001b[0m\u001b[0;34m\u001b[0m\u001b[0m\n\u001b[0;32m-> 3661\u001b[0;31m                 \u001b[0mmask\u001b[0m \u001b[0;34m=\u001b[0m \u001b[0mnp\u001b[0m\u001b[0;34m.\u001b[0m\u001b[0mlogical_or\u001b[0m\u001b[0;34m(\u001b[0m\u001b[0mma\u001b[0m\u001b[0;34m.\u001b[0m\u001b[0mgetmaskarray\u001b[0m\u001b[0;34m(\u001b[0m\u001b[0mdata\u001b[0m\u001b[0;34m)\u001b[0m\u001b[0;34m,\u001b[0m\u001b[0mxymask\u001b[0m\u001b[0;34m)\u001b[0m\u001b[0;34m\u001b[0m\u001b[0m\n\u001b[0m\u001b[1;32m   3662\u001b[0m                 \u001b[0mdata\u001b[0m \u001b[0;34m=\u001b[0m \u001b[0mma\u001b[0m\u001b[0;34m.\u001b[0m\u001b[0mmasked_array\u001b[0m\u001b[0;34m(\u001b[0m\u001b[0mdata\u001b[0m\u001b[0;34m,\u001b[0m\u001b[0mmask\u001b[0m\u001b[0;34m=\u001b[0m\u001b[0mmask\u001b[0m\u001b[0;34m)\u001b[0m\u001b[0;34m\u001b[0m\u001b[0m\n\u001b[1;32m   3663\u001b[0m                 \u001b[0mCS\u001b[0m \u001b[0;34m=\u001b[0m \u001b[0max\u001b[0m\u001b[0;34m.\u001b[0m\u001b[0mcontourf\u001b[0m\u001b[0;34m(\u001b[0m\u001b[0mx\u001b[0m\u001b[0;34m,\u001b[0m\u001b[0my\u001b[0m\u001b[0;34m,\u001b[0m\u001b[0mdata\u001b[0m\u001b[0;34m,\u001b[0m\u001b[0;34m*\u001b[0m\u001b[0margs\u001b[0m\u001b[0;34m,\u001b[0m\u001b[0;34m**\u001b[0m\u001b[0mkwargs\u001b[0m\u001b[0;34m)\u001b[0m\u001b[0;34m\u001b[0m\u001b[0m\n",
      "\u001b[0;31mValueError\u001b[0m: operands could not be broadcast together with shapes (6,26) (26,6) "
     ]
    },
    {
     "data": {
      "image/png": "[encoded data removed]",
      "text/plain": [
       "<Figure size 432x288 with 1 Axes>"
      ]
     },
     "metadata": {},
     "output_type": "display_data"
    }
   ],
   "source": [
    "# X,Y grid is length lons * lats - Z array has to be shape (len(Y),len(X))\n",
    "X, Y = np.meshgrid(np.sort(lons),np.sort(lats))\n",
    "\n",
    "# Initilise figure object\n",
    "fig = plt.figure()\n",
    "ax = fig.add_subplot(111)\n",
    "\n",
    "# we use the basemap package for easier global variable plotting\n",
    "# install with anaconda using: conda install -c conda-forge basemap\n",
    "# for availible projections see: https://matplotlib.org/basemap/users/mapsetup.html\n",
    "# lon_0 is the longitude of the zero (center) point\n",
    "m = Basemap(projection='kav7',lon_0=0,resolution=None)\n",
    "\n",
    "# Find levels between max and min of mapped variable\n",
    "nlev = 20\n",
    "#levels = np.linspace(np.log10(1e-10),np.amax(Z),nlev)\n",
    "levels = np.linspace(np.amin(Z[Z>0]),np.amax(Z),nlev)\n",
    "# Colour map\n",
    "cmap = plt.cm.RdYlBu_r\n",
    "\n",
    "# Plot data as filled contour\n",
    "CS = m.contourf(X,Y,Z,levels=levels,extend='both',cmap=cmap,latlon=True)\n",
    "\n",
    "# Colour bar and formatting\n",
    "for c in CS.collections:\n",
    "    c.set_edgecolor(\"face\")\n",
    "CB = plt.colorbar(CS, orientation='horizontal', format=\"%d\")\n",
    "CB.set_label(keyword, size=16)\n",
    "CB.ax.tick_params(labelsize=12)\n",
    "\n",
    "# Title is chosen pressure level\n",
    "#plt.title('{:0.1f}'.format(P_plot*1.0e3) + ' mbar',fontsize=16)\n",
    "\n",
    "# Increase size of labels\n",
    "plt.tick_params(axis='both', which='major', labelsize=16)\n",
    "\n",
    "# String formatting function\n",
    "def fmtfunc(inlon):\n",
    "    string = r'{:g}'.format(inlon)+r'$^{\\circ}$'\n",
    "    #print string\n",
    "    return string\n",
    "\n",
    "# Plot lat-lon lines on map\n",
    "color1='k'\n",
    "meridians = np.arange(0.,360.,90)\n",
    "m.drawmeridians(meridians,labels=[False,False,False,True],labelstyle=None,\n",
    "                fmt=fmtfunc,dashes=[3,3],color=color1,fontsize=16)\n",
    "parallels = np.arange(-90.,90,30)\n",
    "m.drawparallels(parallels,labels=[True,False,False,False],labelstyle='+/-',\n",
    "                dashes=[3,3],color=color1,fontsize=16)\n",
    "\n",
    "# Save figure\n",
    "plt.tight_layout(pad=1.05, h_pad=None, w_pad=None, rect=None)\n",
    "plt.savefig('HAT-P-7b_T_map_initial.pdf',dpi=144,bbox_inches='tight')\n",
    "\n",
    "# Show figure\n",
    "plt.show()\n",
    "\n"
   ]
  },
  {
   "cell_type": "code",
   "execution_count": null,
   "metadata": {
    "collapsed": true
   },
   "outputs": [],
   "source": []
  }
 ],
 "metadata": {
  "kernelspec": {
   "display_name": "Python 3",
   "language": "python",
   "name": "python3"
  },
  "language_info": {
   "codemirror_mode": {
    "name": "ipython",
    "version": 3
   },
   "file_extension": ".py",
   "mimetype": "text/x-python",
   "name": "python",
   "nbconvert_exporter": "python",
   "pygments_lexer": "ipython3",
   "version": "3.5.4"
  }
 },
 "nbformat": 4,
 "nbformat_minor": 2
}
